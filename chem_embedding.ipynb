{
 "cells": [
  {
   "cell_type": "code",
   "execution_count": 3,
   "id": "1c43c748-78a2-428a-8bd1-572577c23bbd",
   "metadata": {},
   "outputs": [],
   "source": [
    "import pandas as pd\n",
    "from transformers import RobertaTokenizer, RobertaModel\n",
    "import torch"
   ]
  },
  {
   "cell_type": "code",
   "execution_count": 3,
   "id": "a1854f08-005a-4db3-9281-97fd87850053",
   "metadata": {},
   "outputs": [
    {
     "name": "stdout",
     "output_type": "stream",
     "text": [
      "PyTorch version: 2.4.1+cu118\n",
      "CUDA available: True\n",
      "Number of GPUs available: 1\n",
      "GPU name: NVIDIA GeForce RTX 4060 Laptop GPU\n",
      "Number of SMILES strings: 27953\n"
     ]
    },
    {
     "name": "stderr",
     "output_type": "stream",
     "text": [
      "C:\\Users\\abdul\\anaconda3\\Lib\\site-packages\\transformers\\tokenization_utils_base.py:1601: FutureWarning: `clean_up_tokenization_spaces` was not set. It will be set to `True` by default. This behavior will be depracted in transformers v4.45, and will be then set to `False` by default. For more details check this issue: https://github.com/huggingface/transformers/issues/31884\n",
      "  warnings.warn(\n"
     ]
    },
    {
     "name": "stdout",
     "output_type": "stream",
     "text": [
      "Using device: cuda\n",
      "Model is on device: cuda:0\n"
     ]
    },
    {
     "name": "stderr",
     "output_type": "stream",
     "text": [
      "Processing Batches: 100%|██████████| 437/437 [03:56<00:00,  1.84it/s]\n"
     ]
    },
    {
     "name": "stdout",
     "output_type": "stream",
     "text": [
      "Embeddings generated and saved successfully!\n"
     ]
    }
   ],
   "source": [
    "import pandas as pd\n",
    "import torch\n",
    "from transformers import RobertaTokenizer, RobertaModel\n",
    "from tqdm import tqdm\n",
    "from torch.utils.data import DataLoader, Dataset\n",
    "from torch import autocast\n",
    "\n",
    "# 1. Verify GPU Availability\n",
    "print(\"PyTorch version:\", torch.__version__)\n",
    "print(\"CUDA available:\", torch.cuda.is_available())\n",
    "if torch.cuda.is_available():\n",
    "    print(\"Number of GPUs available:\", torch.cuda.device_count())\n",
    "    print(\"GPU name:\", torch.cuda.get_device_name(0))\n",
    "else:\n",
    "    print(\"CUDA is not available. Please check your CUDA installation.\")\n",
    "    exit()\n",
    "\n",
    "# 2. Load Dataset\n",
    "df = pd.read_csv('merged.csv')\n",
    "smiles_list = df['sequence'].tolist()\n",
    "print(f\"Number of SMILES strings: {len(smiles_list)}\")\n",
    "\n",
    "# 3. Load Tokenizer and Model\n",
    "tokenizer = RobertaTokenizer.from_pretrained('seyonec/ChemBERTa-zinc-base-v1')\n",
    "model = RobertaModel.from_pretrained('seyonec/ChemBERTa-zinc-base-v1')\n",
    "\n",
    "# 4. Move Model to GPU\n",
    "device = torch.device('cuda' if torch.cuda.is_available() else 'cpu')\n",
    "model.to(device)\n",
    "print(f\"Using device: {device}\")\n",
    "print(\"Model is on device:\", next(model.parameters()).device)\n",
    "\n",
    "# Define custom dataset to handle tokenization on the fly\n",
    "class SMILES_Dataset(Dataset):\n",
    "    def __init__(self, smiles_list, tokenizer, max_length=512):\n",
    "        self.smiles_list = smiles_list\n",
    "        self.tokenizer = tokenizer\n",
    "        self.max_length = max_length\n",
    "\n",
    "    def __len__(self):\n",
    "        return len(self.smiles_list)\n",
    "\n",
    "    def __getitem__(self, idx):\n",
    "        smiles = self.smiles_list[idx]\n",
    "        inputs = self.tokenizer(\n",
    "            smiles,\n",
    "            return_tensors='pt',\n",
    "            truncation=True,\n",
    "            max_length=self.max_length,\n",
    "            padding='max_length'  # Fixed padding improves efficiency\n",
    "        )\n",
    "        return {key: val.squeeze(0) for key, val in inputs.items()}\n",
    "\n",
    "# 5. Create Dataset and DataLoader\n",
    "dataset = SMILES_Dataset(smiles_list, tokenizer)\n",
    "dataloader = DataLoader(dataset, batch_size=64, shuffle=False)  # You might need to reduce batch size if out of memory\n",
    "\n",
    "# 6. Initialize Embeddings List\n",
    "smiles_embeddings = []\n",
    "\n",
    "# 7. Process SMILES in Batches using DataLoader\n",
    "for batch in tqdm(dataloader, desc=\"Processing Batches\"):\n",
    "    # Move inputs to GPU\n",
    "    inputs = {key: val.to(device) for key, val in batch.items()}\n",
    "    \n",
    "    # Generate Embeddings with Mixed Precision\n",
    "    with torch.no_grad():\n",
    "        with autocast('cuda', enabled=(device.type == 'cuda')):\n",
    "            outputs = model(**inputs)\n",
    "    \n",
    "    # Extract [CLS] Token Embeddings (using the first token [CLS] as representation)\n",
    "    embeddings = outputs.last_hidden_state[:, 0, :]\n",
    "    \n",
    "    # Convert to NumPy and move to CPU\n",
    "    embedding_numpy = embeddings.cpu().numpy()\n",
    "    \n",
    "    # Append to Embeddings List\n",
    "    smiles_embeddings.extend(embedding_numpy)\n",
    "\n",
    "# 8. Verify Embeddings Count\n",
    "assert len(smiles_embeddings) == len(smiles_list), \"Mismatch between embeddings and SMILES count.\"\n",
    "\n",
    "# 9. Add Embeddings to DataFrame\n",
    "df['embeddings'] = smiles_embeddings\n",
    "\n",
    "# 10. Save Embeddings\n",
    "df.to_csv('smiles_with_embeddings.csv')  \n",
    "\n",
    "print(\"Embeddings generated and saved successfully!\")\n"
   ]
  },
  {
   "cell_type": "code",
   "execution_count": null,
   "id": "f331c11d-1bcf-4551-82d6-0d8a7b1d14e7",
   "metadata": {},
   "outputs": [],
   "source": []
  }
 ],
 "metadata": {
  "kernelspec": {
   "display_name": "Python 3 (ipykernel)",
   "language": "python",
   "name": "python3"
  },
  "language_info": {
   "codemirror_mode": {
    "name": "ipython",
    "version": 3
   },
   "file_extension": ".py",
   "mimetype": "text/x-python",
   "name": "python",
   "nbconvert_exporter": "python",
   "pygments_lexer": "ipython3",
   "version": "3.11.5"
  }
 },
 "nbformat": 4,
 "nbformat_minor": 5
}
